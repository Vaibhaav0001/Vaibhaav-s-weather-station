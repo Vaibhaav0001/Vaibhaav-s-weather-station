{
 "cells": [
  {
   "cell_type": "code",
   "execution_count": 2,
   "metadata": {},
   "outputs": [
    {
     "name": "stdout",
     "output_type": "stream",
     "text": [
      "Vaibhaav's weather station\n",
      "Enter city\n",
      "gurgaon\n",
      "Searching in google............\n",
      "\n",
      "Gurugram, Haryana\n",
      "Friday, 2:00 pm\n",
      "Partly cloudy\n",
      "31°C\n",
      "\n",
      "Have a nice day :)\n"
     ]
    }
   ],
   "source": [
    "import requests\n",
    "from bs4 import BeautifulSoup\n",
    "headers = {'User-Agent': 'Mozilla/5.0 (Windows NT 10.0; Win64; x64) AppleWebKit/537.36 (KHTML, like Gecko) Chrome/58.0.3029.110 Safari/537.3'}\n",
    "def details(city):\n",
    "    city=city.replace(\" \",\"+\")\n",
    "    print(\"Searching in google............\\n\")\n",
    "    req=requests.get(f\"https://www.google.com/search?q={city}&oq={city}&aqs=chrome..69i57j69i59j0j0i433l3j46i10j0j0i10i67j0i10.1863j0j7&sourceid=chrome&ie=UTF-8\",headers=headers)\n",
    "    soup=BeautifulSoup(req.text,\"html.parser\")#The HTML parser is a structured markup processing tool.It just helps \n",
    "    location=soup.select(\"#wob_loc\")[0].getText()#in extracting data from html file.\n",
    "    time=soup.select(\"#wob_dts\")[0].getText()\n",
    "    info=soup.select(\"#wob_dc\")[0].getText()\n",
    "    temp=soup.select(\"#wob_tm\")[0].getText()\n",
    "    print(location)\n",
    "    print(time)\n",
    "    print(info)\n",
    "    print(temp+\"°C\\n\")#DEGREE CAN BE IMPLEMENTED BY ALT+0176\n",
    "    print(\"Have a nice day :)\")\n",
    "    \n",
    "    \n",
    "\n",
    "\n",
    "print(\"Vaibhaav's weather station\")\n",
    "print(\"Enter city\")\n",
    "city=input()\n",
    "city=city+\" weather\"\n",
    "details(city)"
   ]
  },
  {
   "cell_type": "code",
   "execution_count": null,
   "metadata": {},
   "outputs": [],
   "source": []
  }
 ],
 "metadata": {
  "kernelspec": {
   "display_name": "Python 3",
   "language": "python",
   "name": "python3"
  },
  "language_info": {
   "codemirror_mode": {
    "name": "ipython",
    "version": 3
   },
   "file_extension": ".py",
   "mimetype": "text/x-python",
   "name": "python",
   "nbconvert_exporter": "python",
   "pygments_lexer": "ipython3",
   "version": "3.8.8"
  }
 },
 "nbformat": 4,
 "nbformat_minor": 2
}
